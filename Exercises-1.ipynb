{
 "cells": [
  {
   "cell_type": "code",
   "execution_count": 1,
   "metadata": {
    "collapsed": false
   },
   "outputs": [],
   "source": [
    "%matplotlib inline\n",
    "import pandas as pd"
   ]
  },
  {
   "cell_type": "code",
   "execution_count": 4,
   "metadata": {
    "collapsed": false
   },
   "outputs": [
    {
     "data": {
      "text/html": [
       "<style>body {\n",
       "    margin: 0;\n",
       "    font-family: Helvetica;\n",
       "}\n",
       "table.dataframe {\n",
       "    border-collapse: collapse;\n",
       "    border: none;\n",
       "}\n",
       "table.dataframe tr {\n",
       "    border: none;\n",
       "}\n",
       "table.dataframe td, table.dataframe th {\n",
       "    margin: 0;\n",
       "    border: 1px solid white;\n",
       "    padding-left: 0.25em;\n",
       "    padding-right: 0.25em;\n",
       "}\n",
       "table.dataframe th:not(:empty) {\n",
       "    background-color: #fec;\n",
       "    text-align: left;\n",
       "    font-weight: normal;\n",
       "}\n",
       "table.dataframe tr:nth-child(2) th:empty {\n",
       "    border-left: none;\n",
       "    border-right: 1px dashed #888;\n",
       "}\n",
       "table.dataframe td {\n",
       "    border: 2px solid #ccf;\n",
       "    background-color: #f4f4ff;\n",
       "}\n",
       "h3 {\n",
       "    color: white;\n",
       "    background-color: black;\n",
       "    padding: 0.5em;\n",
       "}\n",
       "</style>"
      ],
      "text/plain": [
       "<IPython.core.display.HTML object>"
      ]
     },
     "execution_count": 4,
     "metadata": {},
     "output_type": "execute_result"
    }
   ],
   "source": [
    "from IPython.core.display import HTML\n",
    "css = open('style-table.css').read() + open('style-notebook.css').read()\n",
    "HTML('<style>{}</style>'.format(css))"
   ]
  },
  {
   "cell_type": "code",
   "execution_count": 5,
   "metadata": {
    "collapsed": false
   },
   "outputs": [
    {
     "data": {
      "text/html": [
       "<div style=\"max-height:1000px;max-width:1500px;overflow:auto;\">\n",
       "<table border=\"1\" class=\"dataframe\">\n",
       "  <thead>\n",
       "    <tr style=\"text-align: right;\">\n",
       "      <th></th>\n",
       "      <th>title</th>\n",
       "      <th>year</th>\n",
       "    </tr>\n",
       "  </thead>\n",
       "  <tbody>\n",
       "    <tr>\n",
       "      <th>0</th>\n",
       "      <td>          The Rising Son</td>\n",
       "      <td> 1990</td>\n",
       "    </tr>\n",
       "    <tr>\n",
       "      <th>1</th>\n",
       "      <td> The Thousand Plane Raid</td>\n",
       "      <td> 1969</td>\n",
       "    </tr>\n",
       "    <tr>\n",
       "      <th>2</th>\n",
       "      <td>        Crucea de piatra</td>\n",
       "      <td> 1993</td>\n",
       "    </tr>\n",
       "    <tr>\n",
       "      <th>3</th>\n",
       "      <td>                 Country</td>\n",
       "      <td> 2000</td>\n",
       "    </tr>\n",
       "    <tr>\n",
       "      <th>4</th>\n",
       "      <td>              Gaiking II</td>\n",
       "      <td> 2011</td>\n",
       "    </tr>\n",
       "  </tbody>\n",
       "</table>\n",
       "<p>5 rows × 2 columns</p>\n",
       "</div>"
      ],
      "text/plain": [
       "                     title  year\n",
       "0           The Rising Son  1990\n",
       "1  The Thousand Plane Raid  1969\n",
       "2         Crucea de piatra  1993\n",
       "3                  Country  2000\n",
       "4               Gaiking II  2011\n",
       "\n",
       "[5 rows x 2 columns]"
      ]
     },
     "execution_count": 5,
     "metadata": {},
     "output_type": "execute_result"
    }
   ],
   "source": [
    "titles = pd.DataFrame.from_csv('data/titles.csv', index_col=None)\n",
    "titles.head()"
   ]
  },
  {
   "cell_type": "code",
   "execution_count": 6,
   "metadata": {
    "collapsed": false
   },
   "outputs": [
    {
     "data": {
      "text/html": [
       "<div style=\"max-height:1000px;max-width:1500px;overflow:auto;\">\n",
       "<table border=\"1\" class=\"dataframe\">\n",
       "  <thead>\n",
       "    <tr style=\"text-align: right;\">\n",
       "      <th></th>\n",
       "      <th>title</th>\n",
       "      <th>year</th>\n",
       "      <th>name</th>\n",
       "      <th>type</th>\n",
       "      <th>character</th>\n",
       "      <th>n</th>\n",
       "    </tr>\n",
       "  </thead>\n",
       "  <tbody>\n",
       "    <tr>\n",
       "      <th>0</th>\n",
       "      <td>        Suuri illusioni</td>\n",
       "      <td> 1985</td>\n",
       "      <td>  Homo $</td>\n",
       "      <td> actor</td>\n",
       "      <td>                  Guests</td>\n",
       "      <td> 22</td>\n",
       "    </tr>\n",
       "    <tr>\n",
       "      <th>1</th>\n",
       "      <td>    Battle of the Sexes</td>\n",
       "      <td> 2017</td>\n",
       "      <td> $hutter</td>\n",
       "      <td> actor</td>\n",
       "      <td>         Bobby Riggs Fan</td>\n",
       "      <td> 10</td>\n",
       "    </tr>\n",
       "    <tr>\n",
       "      <th>2</th>\n",
       "      <td>   Secret in Their Eyes</td>\n",
       "      <td> 2015</td>\n",
       "      <td> $hutter</td>\n",
       "      <td> actor</td>\n",
       "      <td>         2002 Dodger Fan</td>\n",
       "      <td>NaN</td>\n",
       "    </tr>\n",
       "    <tr>\n",
       "      <th>3</th>\n",
       "      <td>             Steve Jobs</td>\n",
       "      <td> 2015</td>\n",
       "      <td> $hutter</td>\n",
       "      <td> actor</td>\n",
       "      <td> 1988 Opera House Patron</td>\n",
       "      <td>NaN</td>\n",
       "    </tr>\n",
       "    <tr>\n",
       "      <th>4</th>\n",
       "      <td> Straight Outta Compton</td>\n",
       "      <td> 2015</td>\n",
       "      <td> $hutter</td>\n",
       "      <td> actor</td>\n",
       "      <td>             Club Patron</td>\n",
       "      <td>NaN</td>\n",
       "    </tr>\n",
       "  </tbody>\n",
       "</table>\n",
       "<p>5 rows × 6 columns</p>\n",
       "</div>"
      ],
      "text/plain": [
       "                    title  year     name   type                character   n\n",
       "0         Suuri illusioni  1985   Homo $  actor                   Guests  22\n",
       "1     Battle of the Sexes  2017  $hutter  actor          Bobby Riggs Fan  10\n",
       "2    Secret in Their Eyes  2015  $hutter  actor          2002 Dodger Fan NaN\n",
       "3              Steve Jobs  2015  $hutter  actor  1988 Opera House Patron NaN\n",
       "4  Straight Outta Compton  2015  $hutter  actor              Club Patron NaN\n",
       "\n",
       "[5 rows x 6 columns]"
      ]
     },
     "execution_count": 6,
     "metadata": {},
     "output_type": "execute_result"
    }
   ],
   "source": [
    "cast = pd.DataFrame.from_csv('data/cast.csv', index_col=None)\n",
    "cast.head()"
   ]
  },
  {
   "cell_type": "markdown",
   "metadata": {
    "collapsed": true
   },
   "source": [
    "### How many movies are listed in the titles dataframe?"
   ]
  },
  {
   "cell_type": "code",
   "execution_count": 42,
   "metadata": {
    "collapsed": false
   },
   "outputs": [
    {
     "data": {
      "text/plain": [
       "226758"
      ]
     },
     "execution_count": 42,
     "metadata": {},
     "output_type": "execute_result"
    }
   ],
   "source": [
    "len(titles)"
   ]
  },
  {
   "cell_type": "code",
   "execution_count": null,
   "metadata": {
    "collapsed": true
   },
   "outputs": [],
   "source": []
  },
  {
   "cell_type": "markdown",
   "metadata": {
    "collapsed": true
   },
   "source": [
    "### What are the earliest two films listed in the titles dataframe?"
   ]
  },
  {
   "cell_type": "code",
   "execution_count": 43,
   "metadata": {
    "collapsed": false
   },
   "outputs": [
    {
     "data": {
      "text/html": [
       "<div style=\"max-height:1000px;max-width:1500px;overflow:auto;\">\n",
       "<table border=\"1\" class=\"dataframe\">\n",
       "  <thead>\n",
       "    <tr style=\"text-align: right;\">\n",
       "      <th></th>\n",
       "      <th>title</th>\n",
       "      <th>year</th>\n",
       "    </tr>\n",
       "  </thead>\n",
       "  <tbody>\n",
       "    <tr>\n",
       "      <th>173348</th>\n",
       "      <td>                                     Miss Jerry</td>\n",
       "      <td> 1894</td>\n",
       "    </tr>\n",
       "    <tr>\n",
       "      <th>121504</th>\n",
       "      <td> Reproduction of the Corbett and Jeffries Fight</td>\n",
       "      <td> 1899</td>\n",
       "    </tr>\n",
       "  </tbody>\n",
       "</table>\n",
       "<p>2 rows × 2 columns</p>\n",
       "</div>"
      ],
      "text/plain": [
       "                                                 title  year\n",
       "173348                                      Miss Jerry  1894\n",
       "121504  Reproduction of the Corbett and Jeffries Fight  1899\n",
       "\n",
       "[2 rows x 2 columns]"
      ]
     },
     "execution_count": 43,
     "metadata": {},
     "output_type": "execute_result"
    }
   ],
   "source": [
    "titles.sort('year').head(2)"
   ]
  },
  {
   "cell_type": "code",
   "execution_count": null,
   "metadata": {
    "collapsed": true
   },
   "outputs": [],
   "source": []
  },
  {
   "cell_type": "markdown",
   "metadata": {
    "collapsed": true
   },
   "source": [
    "### How many movies have the title \"Hamlet\"?"
   ]
  },
  {
   "cell_type": "code",
   "execution_count": 44,
   "metadata": {
    "collapsed": false
   },
   "outputs": [
    {
     "data": {
      "text/plain": [
       "19"
      ]
     },
     "execution_count": 44,
     "metadata": {},
     "output_type": "execute_result"
    }
   ],
   "source": [
    "len(titles[titles.title == \"Hamlet\"])"
   ]
  },
  {
   "cell_type": "code",
   "execution_count": null,
   "metadata": {
    "collapsed": true
   },
   "outputs": [],
   "source": []
  },
  {
   "cell_type": "markdown",
   "metadata": {
    "collapsed": true
   },
   "source": [
    "### How many movies are titled \"North by Northwest\"?"
   ]
  },
  {
   "cell_type": "code",
   "execution_count": 45,
   "metadata": {
    "collapsed": false
   },
   "outputs": [
    {
     "data": {
      "text/plain": [
       "1"
      ]
     },
     "execution_count": 45,
     "metadata": {},
     "output_type": "execute_result"
    }
   ],
   "source": [
    "len(titles[titles.title == \"North by Northwest\"])"
   ]
  },
  {
   "cell_type": "code",
   "execution_count": null,
   "metadata": {
    "collapsed": true
   },
   "outputs": [],
   "source": []
  },
  {
   "cell_type": "markdown",
   "metadata": {
    "collapsed": true
   },
   "source": [
    "### When was the first movie titled \"Hamlet\" made?"
   ]
  },
  {
   "cell_type": "code",
   "execution_count": 49,
   "metadata": {
    "collapsed": false
   },
   "outputs": [
    {
     "data": {
      "text/plain": [
       "45611    1910\n",
       "Name: year, dtype: int64"
      ]
     },
     "execution_count": 49,
     "metadata": {},
     "output_type": "execute_result"
    }
   ],
   "source": [
    "titles[titles.title == \"Hamlet\"].sort('year').head(1)['year']"
   ]
  },
  {
   "cell_type": "code",
   "execution_count": null,
   "metadata": {
    "collapsed": true
   },
   "outputs": [],
   "source": []
  },
  {
   "cell_type": "markdown",
   "metadata": {
    "collapsed": true
   },
   "source": [
    "### List all of the \"Treasure Island\" movies from earliest to most recent."
   ]
  },
  {
   "cell_type": "code",
   "execution_count": 56,
   "metadata": {
    "collapsed": false
   },
   "outputs": [
    {
     "data": {
      "text/html": [
       "<div style=\"max-height:1000px;max-width:1500px;overflow:auto;\">\n",
       "<table border=\"1\" class=\"dataframe\">\n",
       "  <thead>\n",
       "    <tr style=\"text-align: right;\">\n",
       "      <th></th>\n",
       "      <th>title</th>\n",
       "      <th>year</th>\n",
       "    </tr>\n",
       "  </thead>\n",
       "  <tbody>\n",
       "    <tr>\n",
       "      <th>201001</th>\n",
       "      <td>                                   Treasure Island</td>\n",
       "      <td> 1918</td>\n",
       "    </tr>\n",
       "    <tr>\n",
       "      <th>50061 </th>\n",
       "      <td>                                   Treasure Island</td>\n",
       "      <td> 1920</td>\n",
       "    </tr>\n",
       "    <tr>\n",
       "      <th>186352</th>\n",
       "      <td>                                   Treasure Island</td>\n",
       "      <td> 1934</td>\n",
       "    </tr>\n",
       "    <tr>\n",
       "      <th>94610 </th>\n",
       "      <td>                                   Treasure Island</td>\n",
       "      <td> 1950</td>\n",
       "    </tr>\n",
       "    <tr>\n",
       "      <th>58212 </th>\n",
       "      <td>                                   Treasure Island</td>\n",
       "      <td> 1972</td>\n",
       "    </tr>\n",
       "    <tr>\n",
       "      <th>108718</th>\n",
       "      <td>                                   Treasure Island</td>\n",
       "      <td> 1973</td>\n",
       "    </tr>\n",
       "    <tr>\n",
       "      <th>200384</th>\n",
       "      <td>                                   Treasure Island</td>\n",
       "      <td> 1985</td>\n",
       "    </tr>\n",
       "    <tr>\n",
       "      <th>99946 </th>\n",
       "      <td>                              Treasure Island (II)</td>\n",
       "      <td> 1999</td>\n",
       "    </tr>\n",
       "    <tr>\n",
       "      <th>174920</th>\n",
       "      <td>                                   Treasure Island</td>\n",
       "      <td> 1999</td>\n",
       "    </tr>\n",
       "    <tr>\n",
       "      <th>176021</th>\n",
       "      <td> Treasure Island Kids: The Mystery of Treasure ...</td>\n",
       "      <td> 2006</td>\n",
       "    </tr>\n",
       "    <tr>\n",
       "      <th>212712</th>\n",
       "      <td> Treasure Island Kids: The Battle of Treasure I...</td>\n",
       "      <td> 2006</td>\n",
       "    </tr>\n",
       "    <tr>\n",
       "      <th>218222</th>\n",
       "      <td> Treasure Island Kids: The Monster of Treasure ...</td>\n",
       "      <td> 2006</td>\n",
       "    </tr>\n",
       "  </tbody>\n",
       "</table>\n",
       "<p>12 rows × 2 columns</p>\n",
       "</div>"
      ],
      "text/plain": [
       "                                                    title  year\n",
       "201001                                    Treasure Island  1918\n",
       "50061                                     Treasure Island  1920\n",
       "186352                                    Treasure Island  1934\n",
       "94610                                     Treasure Island  1950\n",
       "58212                                     Treasure Island  1972\n",
       "108718                                    Treasure Island  1973\n",
       "200384                                    Treasure Island  1985\n",
       "99946                                Treasure Island (II)  1999\n",
       "174920                                    Treasure Island  1999\n",
       "176021  Treasure Island Kids: The Mystery of Treasure ...  2006\n",
       "212712  Treasure Island Kids: The Battle of Treasure I...  2006\n",
       "218222  Treasure Island Kids: The Monster of Treasure ...  2006\n",
       "\n",
       "[12 rows x 2 columns]"
      ]
     },
     "execution_count": 56,
     "metadata": {},
     "output_type": "execute_result"
    }
   ],
   "source": [
    "titles[titles.title.str.contains('^Treasure Island')].sort('year')"
   ]
  },
  {
   "cell_type": "code",
   "execution_count": null,
   "metadata": {
    "collapsed": true
   },
   "outputs": [],
   "source": []
  },
  {
   "cell_type": "markdown",
   "metadata": {
    "collapsed": true
   },
   "source": [
    "### How many movies were made in the year 1950?"
   ]
  },
  {
   "cell_type": "code",
   "execution_count": 59,
   "metadata": {
    "collapsed": false,
    "scrolled": true
   },
   "outputs": [
    {
     "data": {
      "text/plain": [
       "1083"
      ]
     },
     "execution_count": 59,
     "metadata": {},
     "output_type": "execute_result"
    }
   ],
   "source": [
    "len(titles[titles.year == 1950])"
   ]
  },
  {
   "cell_type": "code",
   "execution_count": null,
   "metadata": {
    "collapsed": true
   },
   "outputs": [],
   "source": []
  },
  {
   "cell_type": "markdown",
   "metadata": {
    "collapsed": true
   },
   "source": [
    "### How many movies were made in the year 1960?"
   ]
  },
  {
   "cell_type": "code",
   "execution_count": 60,
   "metadata": {
    "collapsed": false
   },
   "outputs": [
    {
     "data": {
      "text/plain": [
       "1488"
      ]
     },
     "execution_count": 60,
     "metadata": {},
     "output_type": "execute_result"
    }
   ],
   "source": [
    "len(titles[titles.year == 1960])"
   ]
  },
  {
   "cell_type": "code",
   "execution_count": null,
   "metadata": {
    "collapsed": true
   },
   "outputs": [],
   "source": []
  },
  {
   "cell_type": "markdown",
   "metadata": {
    "collapsed": true
   },
   "source": [
    "### How many movies were made from 1950 through 1959?"
   ]
  },
  {
   "cell_type": "code",
   "execution_count": 61,
   "metadata": {
    "collapsed": false
   },
   "outputs": [
    {
     "data": {
      "text/plain": [
       "12506"
      ]
     },
     "execution_count": 61,
     "metadata": {},
     "output_type": "execute_result"
    }
   ],
   "source": [
    "len(titles[(titles.year >= 1950) & (titles.year <= 1959)])"
   ]
  },
  {
   "cell_type": "code",
   "execution_count": null,
   "metadata": {
    "collapsed": true
   },
   "outputs": [],
   "source": []
  },
  {
   "cell_type": "markdown",
   "metadata": {
    "collapsed": true
   },
   "source": [
    "### In what years has a movie titled \"Batman\" been released?"
   ]
  },
  {
   "cell_type": "code",
   "execution_count": 63,
   "metadata": {
    "collapsed": false
   },
   "outputs": [
    {
     "data": {
      "text/plain": [
       "72867    1943\n",
       "54680    1989\n",
       "Name: year, dtype: int64"
      ]
     },
     "execution_count": 63,
     "metadata": {},
     "output_type": "execute_result"
    }
   ],
   "source": [
    "titles[titles.title == \"Batman\"]['year'].order()"
   ]
  },
  {
   "cell_type": "code",
   "execution_count": null,
   "metadata": {
    "collapsed": true
   },
   "outputs": [],
   "source": []
  },
  {
   "cell_type": "markdown",
   "metadata": {
    "collapsed": true
   },
   "source": [
    "### How many roles were there in the movie \"Inception\"?"
   ]
  },
  {
   "cell_type": "code",
   "execution_count": 66,
   "metadata": {
    "collapsed": false
   },
   "outputs": [
    {
     "data": {
      "text/plain": [
       "77"
      ]
     },
     "execution_count": 66,
     "metadata": {},
     "output_type": "execute_result"
    }
   ],
   "source": [
    "len(cast[cast.title == \"Inception\"])"
   ]
  },
  {
   "cell_type": "code",
   "execution_count": null,
   "metadata": {
    "collapsed": true
   },
   "outputs": [],
   "source": []
  },
  {
   "cell_type": "markdown",
   "metadata": {
    "collapsed": true
   },
   "source": [
    "### How many roles in the movie \"Inception\" are NOT ranked by an \"n\" value?"
   ]
  },
  {
   "cell_type": "code",
   "execution_count": 71,
   "metadata": {
    "collapsed": false
   },
   "outputs": [
    {
     "data": {
      "text/plain": [
       "26"
      ]
     },
     "execution_count": 71,
     "metadata": {},
     "output_type": "execute_result"
    }
   ],
   "source": [
    "len(cast[(cast.title == \"Inception\") & cast.n.isnull()])"
   ]
  },
  {
   "cell_type": "code",
   "execution_count": null,
   "metadata": {
    "collapsed": true
   },
   "outputs": [],
   "source": []
  },
  {
   "cell_type": "markdown",
   "metadata": {
    "collapsed": true
   },
   "source": [
    "### But how many roles in the movie \"Inception\" did receive an \"n\" value?"
   ]
  },
  {
   "cell_type": "code",
   "execution_count": 73,
   "metadata": {
    "collapsed": false
   },
   "outputs": [
    {
     "data": {
      "text/plain": [
       "51"
      ]
     },
     "execution_count": 73,
     "metadata": {},
     "output_type": "execute_result"
    }
   ],
   "source": [
    "len(cast[(cast.title == \"Inception\") & cast.n.notnull()])"
   ]
  },
  {
   "cell_type": "code",
   "execution_count": null,
   "metadata": {
    "collapsed": true
   },
   "outputs": [],
   "source": []
  },
  {
   "cell_type": "markdown",
   "metadata": {
    "collapsed": true
   },
   "source": [
    "### Display the cast of \"North by Northwest\" in their correct \"n\"-value order, ignoring roles that did not earn a numeric \"n\" value."
   ]
  },
  {
   "cell_type": "code",
   "execution_count": 74,
   "metadata": {
    "collapsed": false,
    "scrolled": true
   },
   "outputs": [
    {
     "data": {
      "text/html": [
       "<div style=\"max-height:1000px;max-width:1500px;overflow:auto;\">\n",
       "<table border=\"1\" class=\"dataframe\">\n",
       "  <thead>\n",
       "    <tr style=\"text-align: right;\">\n",
       "      <th></th>\n",
       "      <th>title</th>\n",
       "      <th>year</th>\n",
       "      <th>name</th>\n",
       "      <th>type</th>\n",
       "      <th>character</th>\n",
       "      <th>n</th>\n",
       "    </tr>\n",
       "  </thead>\n",
       "  <tbody>\n",
       "    <tr>\n",
       "      <th>818488 </th>\n",
       "      <td> North by Northwest</td>\n",
       "      <td> 1959</td>\n",
       "      <td>           Cary Grant</td>\n",
       "      <td>   actor</td>\n",
       "      <td>          Roger O. Thornhill</td>\n",
       "      <td>  1</td>\n",
       "    </tr>\n",
       "    <tr>\n",
       "      <th>3270954</th>\n",
       "      <td> North by Northwest</td>\n",
       "      <td> 1959</td>\n",
       "      <td>      Eva Marie Saint</td>\n",
       "      <td> actress</td>\n",
       "      <td>                 Eve Kendall</td>\n",
       "      <td>  2</td>\n",
       "    </tr>\n",
       "    <tr>\n",
       "      <th>1368090</th>\n",
       "      <td> North by Northwest</td>\n",
       "      <td> 1959</td>\n",
       "      <td>          James Mason</td>\n",
       "      <td>   actor</td>\n",
       "      <td>             Phillip Vandamm</td>\n",
       "      <td>  3</td>\n",
       "    </tr>\n",
       "    <tr>\n",
       "      <th>2943117</th>\n",
       "      <td> North by Northwest</td>\n",
       "      <td> 1959</td>\n",
       "      <td>  Jessie Royce Landis</td>\n",
       "      <td> actress</td>\n",
       "      <td>             Clara Thornhill</td>\n",
       "      <td>  4</td>\n",
       "    </tr>\n",
       "    <tr>\n",
       "      <th>334412 </th>\n",
       "      <td> North by Northwest</td>\n",
       "      <td> 1959</td>\n",
       "      <td>       Leo G. Carroll</td>\n",
       "      <td>   actor</td>\n",
       "      <td>               The Professor</td>\n",
       "      <td>  5</td>\n",
       "    </tr>\n",
       "    <tr>\n",
       "      <th>2845261</th>\n",
       "      <td> North by Northwest</td>\n",
       "      <td> 1959</td>\n",
       "      <td> Josephine Hutchinson</td>\n",
       "      <td> actress</td>\n",
       "      <td>               Mrs. Townsend</td>\n",
       "      <td>  6</td>\n",
       "    </tr>\n",
       "    <tr>\n",
       "      <th>1592177</th>\n",
       "      <td> North by Northwest</td>\n",
       "      <td> 1959</td>\n",
       "      <td>          Philip Ober</td>\n",
       "      <td>   actor</td>\n",
       "      <td>             Lester Townsend</td>\n",
       "      <td>  7</td>\n",
       "    </tr>\n",
       "    <tr>\n",
       "      <th>1196834</th>\n",
       "      <td> North by Northwest</td>\n",
       "      <td> 1959</td>\n",
       "      <td>        Martin Landau</td>\n",
       "      <td>   actor</td>\n",
       "      <td>                     Leonard</td>\n",
       "      <td>  8</td>\n",
       "    </tr>\n",
       "    <tr>\n",
       "      <th>2296149</th>\n",
       "      <td> North by Northwest</td>\n",
       "      <td> 1959</td>\n",
       "      <td>        Adam Williams</td>\n",
       "      <td>   actor</td>\n",
       "      <td>                    Valerian</td>\n",
       "      <td>  9</td>\n",
       "    </tr>\n",
       "    <tr>\n",
       "      <th>1700893</th>\n",
       "      <td> North by Northwest</td>\n",
       "      <td> 1959</td>\n",
       "      <td>         Edward Platt</td>\n",
       "      <td>   actor</td>\n",
       "      <td>             Victor Larrabee</td>\n",
       "      <td> 10</td>\n",
       "    </tr>\n",
       "    <tr>\n",
       "      <th>625254 </th>\n",
       "      <td> North by Northwest</td>\n",
       "      <td> 1959</td>\n",
       "      <td>    Robert Ellenstein</td>\n",
       "      <td>   actor</td>\n",
       "      <td>                       Licht</td>\n",
       "      <td> 11</td>\n",
       "    </tr>\n",
       "    <tr>\n",
       "      <th>2154151</th>\n",
       "      <td> North by Northwest</td>\n",
       "      <td> 1959</td>\n",
       "      <td>         Les Tremayne</td>\n",
       "      <td>   actor</td>\n",
       "      <td>                  Auctioneer</td>\n",
       "      <td> 12</td>\n",
       "    </tr>\n",
       "    <tr>\n",
       "      <th>435915 </th>\n",
       "      <td> North by Northwest</td>\n",
       "      <td> 1959</td>\n",
       "      <td>      Philip Coolidge</td>\n",
       "      <td>   actor</td>\n",
       "      <td>                   Dr. Cross</td>\n",
       "      <td> 13</td>\n",
       "    </tr>\n",
       "    <tr>\n",
       "      <th>1416611</th>\n",
       "      <td> North by Northwest</td>\n",
       "      <td> 1959</td>\n",
       "      <td>        Patrick McVey</td>\n",
       "      <td>   actor</td>\n",
       "      <td>              Sergeant Flamm</td>\n",
       "      <td> 14</td>\n",
       "    </tr>\n",
       "    <tr>\n",
       "      <th>192793 </th>\n",
       "      <td> North by Northwest</td>\n",
       "      <td> 1959</td>\n",
       "      <td>         Edward Binns</td>\n",
       "      <td>   actor</td>\n",
       "      <td>              Captain Junket</td>\n",
       "      <td> 15</td>\n",
       "    </tr>\n",
       "    <tr>\n",
       "      <th>1299913</th>\n",
       "      <td> North by Northwest</td>\n",
       "      <td> 1959</td>\n",
       "      <td>            Ken Lynch</td>\n",
       "      <td>   actor</td>\n",
       "      <td> Charley - Chicago Policeman</td>\n",
       "      <td> 16</td>\n",
       "    </tr>\n",
       "  </tbody>\n",
       "</table>\n",
       "<p>16 rows × 6 columns</p>\n",
       "</div>"
      ],
      "text/plain": [
       "                      title  year                  name     type  \\\n",
       "818488   North by Northwest  1959            Cary Grant    actor   \n",
       "3270954  North by Northwest  1959       Eva Marie Saint  actress   \n",
       "1368090  North by Northwest  1959           James Mason    actor   \n",
       "2943117  North by Northwest  1959   Jessie Royce Landis  actress   \n",
       "334412   North by Northwest  1959        Leo G. Carroll    actor   \n",
       "2845261  North by Northwest  1959  Josephine Hutchinson  actress   \n",
       "1592177  North by Northwest  1959           Philip Ober    actor   \n",
       "1196834  North by Northwest  1959         Martin Landau    actor   \n",
       "2296149  North by Northwest  1959         Adam Williams    actor   \n",
       "1700893  North by Northwest  1959          Edward Platt    actor   \n",
       "625254   North by Northwest  1959     Robert Ellenstein    actor   \n",
       "2154151  North by Northwest  1959          Les Tremayne    actor   \n",
       "435915   North by Northwest  1959       Philip Coolidge    actor   \n",
       "1416611  North by Northwest  1959         Patrick McVey    actor   \n",
       "192793   North by Northwest  1959          Edward Binns    actor   \n",
       "1299913  North by Northwest  1959             Ken Lynch    actor   \n",
       "\n",
       "                           character   n  \n",
       "818488            Roger O. Thornhill   1  \n",
       "3270954                  Eve Kendall   2  \n",
       "1368090              Phillip Vandamm   3  \n",
       "2943117              Clara Thornhill   4  \n",
       "334412                 The Professor   5  \n",
       "2845261                Mrs. Townsend   6  \n",
       "1592177              Lester Townsend   7  \n",
       "1196834                      Leonard   8  \n",
       "2296149                     Valerian   9  \n",
       "1700893              Victor Larrabee  10  \n",
       "625254                         Licht  11  \n",
       "2154151                   Auctioneer  12  \n",
       "435915                     Dr. Cross  13  \n",
       "1416611               Sergeant Flamm  14  \n",
       "192793                Captain Junket  15  \n",
       "1299913  Charley - Chicago Policeman  16  \n",
       "\n",
       "[16 rows x 6 columns]"
      ]
     },
     "execution_count": 74,
     "metadata": {},
     "output_type": "execute_result"
    }
   ],
   "source": [
    "cast[(cast.title == \"North by Northwest\") & cast.n.notnull()].sort('n')"
   ]
  },
  {
   "cell_type": "code",
   "execution_count": null,
   "metadata": {
    "collapsed": true
   },
   "outputs": [],
   "source": []
  },
  {
   "cell_type": "markdown",
   "metadata": {
    "collapsed": true
   },
   "source": [
    "### Display the entire cast, in \"n\"-order, of the 1972 film \"Sleuth\"."
   ]
  },
  {
   "cell_type": "code",
   "execution_count": 76,
   "metadata": {
    "collapsed": false
   },
   "outputs": [
    {
     "data": {
      "text/html": [
       "<div style=\"max-height:1000px;max-width:1500px;overflow:auto;\">\n",
       "<table border=\"1\" class=\"dataframe\">\n",
       "  <thead>\n",
       "    <tr style=\"text-align: right;\">\n",
       "      <th></th>\n",
       "      <th>title</th>\n",
       "      <th>year</th>\n",
       "      <th>name</th>\n",
       "      <th>type</th>\n",
       "      <th>character</th>\n",
       "      <th>n</th>\n",
       "    </tr>\n",
       "  </thead>\n",
       "  <tbody>\n",
       "    <tr>\n",
       "      <th>1601539</th>\n",
       "      <td> Sleuth</td>\n",
       "      <td> 1972</td>\n",
       "      <td>   Laurence Olivier</td>\n",
       "      <td>   actor</td>\n",
       "      <td>                Andrew Wyke</td>\n",
       "      <td> 1</td>\n",
       "    </tr>\n",
       "    <tr>\n",
       "      <th>306143 </th>\n",
       "      <td> Sleuth</td>\n",
       "      <td> 1972</td>\n",
       "      <td>      Michael Caine</td>\n",
       "      <td>   actor</td>\n",
       "      <td>                Milo Tindle</td>\n",
       "      <td> 2</td>\n",
       "    </tr>\n",
       "    <tr>\n",
       "      <th>350669 </th>\n",
       "      <td> Sleuth</td>\n",
       "      <td> 1972</td>\n",
       "      <td>     Alec Cawthorne</td>\n",
       "      <td>   actor</td>\n",
       "      <td>          Inspector Doppler</td>\n",
       "      <td> 3</td>\n",
       "    </tr>\n",
       "    <tr>\n",
       "      <th>1375811</th>\n",
       "      <td> Sleuth</td>\n",
       "      <td> 1972</td>\n",
       "      <td> John (II) Matthews</td>\n",
       "      <td>   actor</td>\n",
       "      <td> Detective Sergeant Tarrant</td>\n",
       "      <td> 4</td>\n",
       "    </tr>\n",
       "    <tr>\n",
       "      <th>2550164</th>\n",
       "      <td> Sleuth</td>\n",
       "      <td> 1972</td>\n",
       "      <td> Eve (III) Channing</td>\n",
       "      <td> actress</td>\n",
       "      <td>            Marguerite Wyke</td>\n",
       "      <td> 5</td>\n",
       "    </tr>\n",
       "    <tr>\n",
       "      <th>1360231</th>\n",
       "      <td> Sleuth</td>\n",
       "      <td> 1972</td>\n",
       "      <td>       Teddy Martin</td>\n",
       "      <td>   actor</td>\n",
       "      <td>     Police Constable Higgs</td>\n",
       "      <td> 6</td>\n",
       "    </tr>\n",
       "  </tbody>\n",
       "</table>\n",
       "<p>6 rows × 6 columns</p>\n",
       "</div>"
      ],
      "text/plain": [
       "          title  year                name     type  \\\n",
       "1601539  Sleuth  1972    Laurence Olivier    actor   \n",
       "306143   Sleuth  1972       Michael Caine    actor   \n",
       "350669   Sleuth  1972      Alec Cawthorne    actor   \n",
       "1375811  Sleuth  1972  John (II) Matthews    actor   \n",
       "2550164  Sleuth  1972  Eve (III) Channing  actress   \n",
       "1360231  Sleuth  1972        Teddy Martin    actor   \n",
       "\n",
       "                          character  n  \n",
       "1601539                 Andrew Wyke  1  \n",
       "306143                  Milo Tindle  2  \n",
       "350669            Inspector Doppler  3  \n",
       "1375811  Detective Sergeant Tarrant  4  \n",
       "2550164             Marguerite Wyke  5  \n",
       "1360231      Police Constable Higgs  6  \n",
       "\n",
       "[6 rows x 6 columns]"
      ]
     },
     "execution_count": 76,
     "metadata": {},
     "output_type": "execute_result"
    }
   ],
   "source": [
    "cast[(cast.title == \"Sleuth\") & cast.n.notnull() & (cast.year == 1972)].sort('n')"
   ]
  },
  {
   "cell_type": "code",
   "execution_count": null,
   "metadata": {
    "collapsed": true
   },
   "outputs": [],
   "source": []
  },
  {
   "cell_type": "markdown",
   "metadata": {
    "collapsed": true
   },
   "source": [
    "### Now display the entire cast, in \"n\"-order, of the 2007 version of \"Sleuth\"."
   ]
  },
  {
   "cell_type": "code",
   "execution_count": 77,
   "metadata": {
    "collapsed": false
   },
   "outputs": [
    {
     "data": {
      "text/html": [
       "<div style=\"max-height:1000px;max-width:1500px;overflow:auto;\">\n",
       "<table border=\"1\" class=\"dataframe\">\n",
       "  <thead>\n",
       "    <tr style=\"text-align: right;\">\n",
       "      <th></th>\n",
       "      <th>title</th>\n",
       "      <th>year</th>\n",
       "      <th>name</th>\n",
       "      <th>type</th>\n",
       "      <th>character</th>\n",
       "      <th>n</th>\n",
       "    </tr>\n",
       "  </thead>\n",
       "  <tbody>\n",
       "    <tr>\n",
       "      <th>306144 </th>\n",
       "      <td> Sleuth</td>\n",
       "      <td> 2007</td>\n",
       "      <td> Michael Caine</td>\n",
       "      <td> actor</td>\n",
       "      <td>      Andrew</td>\n",
       "      <td> 1</td>\n",
       "    </tr>\n",
       "    <tr>\n",
       "      <th>1214180</th>\n",
       "      <td> Sleuth</td>\n",
       "      <td> 2007</td>\n",
       "      <td>      Jude Law</td>\n",
       "      <td> actor</td>\n",
       "      <td>        Milo</td>\n",
       "      <td> 2</td>\n",
       "    </tr>\n",
       "    <tr>\n",
       "      <th>1695799</th>\n",
       "      <td> Sleuth</td>\n",
       "      <td> 2007</td>\n",
       "      <td> Harold Pinter</td>\n",
       "      <td> actor</td>\n",
       "      <td> Man on T.V.</td>\n",
       "      <td> 3</td>\n",
       "    </tr>\n",
       "  </tbody>\n",
       "</table>\n",
       "<p>3 rows × 6 columns</p>\n",
       "</div>"
      ],
      "text/plain": [
       "          title  year           name   type    character  n\n",
       "306144   Sleuth  2007  Michael Caine  actor       Andrew  1\n",
       "1214180  Sleuth  2007       Jude Law  actor         Milo  2\n",
       "1695799  Sleuth  2007  Harold Pinter  actor  Man on T.V.  3\n",
       "\n",
       "[3 rows x 6 columns]"
      ]
     },
     "execution_count": 77,
     "metadata": {},
     "output_type": "execute_result"
    }
   ],
   "source": [
    "cast[(cast.title == \"Sleuth\") & cast.n.notnull() & (cast.year == 2007)].sort('n')"
   ]
  },
  {
   "cell_type": "code",
   "execution_count": null,
   "metadata": {
    "collapsed": true
   },
   "outputs": [],
   "source": []
  },
  {
   "cell_type": "markdown",
   "metadata": {
    "collapsed": true
   },
   "source": [
    "### How many roles were credited in the silent 1921 version of Hamlet?"
   ]
  },
  {
   "cell_type": "code",
   "execution_count": 79,
   "metadata": {
    "collapsed": false
   },
   "outputs": [
    {
     "data": {
      "text/plain": [
       "9"
      ]
     },
     "execution_count": 79,
     "metadata": {},
     "output_type": "execute_result"
    }
   ],
   "source": [
    "len(cast[(cast.title == \"Hamlet\") & (cast.year == 1921)])"
   ]
  },
  {
   "cell_type": "code",
   "execution_count": null,
   "metadata": {
    "collapsed": true
   },
   "outputs": [],
   "source": []
  },
  {
   "cell_type": "markdown",
   "metadata": {
    "collapsed": true
   },
   "source": [
    "### How many roles were credited in Branagh’s 1996 Hamlet?"
   ]
  },
  {
   "cell_type": "code",
   "execution_count": 80,
   "metadata": {
    "collapsed": false
   },
   "outputs": [
    {
     "data": {
      "text/plain": [
       "54"
      ]
     },
     "execution_count": 80,
     "metadata": {},
     "output_type": "execute_result"
    }
   ],
   "source": [
    "len(cast[(cast.title == \"Hamlet\") & (cast.year == 1996)])"
   ]
  },
  {
   "cell_type": "code",
   "execution_count": null,
   "metadata": {
    "collapsed": false
   },
   "outputs": [],
   "source": []
  },
  {
   "cell_type": "markdown",
   "metadata": {
    "collapsed": true
   },
   "source": [
    "### How many \"Hamlet\" roles have been listed in all film credits through history?"
   ]
  },
  {
   "cell_type": "code",
   "execution_count": 83,
   "metadata": {
    "collapsed": false
   },
   "outputs": [
    {
     "data": {
      "text/plain": [
       "313"
      ]
     },
     "execution_count": 83,
     "metadata": {},
     "output_type": "execute_result"
    }
   ],
   "source": [
    "len(cast[cast.title == 'Hamlet'])"
   ]
  },
  {
   "cell_type": "code",
   "execution_count": null,
   "metadata": {
    "collapsed": true
   },
   "outputs": [],
   "source": []
  },
  {
   "cell_type": "markdown",
   "metadata": {
    "collapsed": true
   },
   "source": [
    "### How many people have played an \"Ophelia\"?"
   ]
  },
  {
   "cell_type": "code",
   "execution_count": 88,
   "metadata": {
    "collapsed": false
   },
   "outputs": [
    {
     "data": {
      "text/plain": [
       "149"
      ]
     },
     "execution_count": 88,
     "metadata": {},
     "output_type": "execute_result"
    }
   ],
   "source": [
    "len(cast[cast.character.str.contains('Ophelia')])"
   ]
  },
  {
   "cell_type": "code",
   "execution_count": null,
   "metadata": {
    "collapsed": true
   },
   "outputs": [],
   "source": []
  },
  {
   "cell_type": "markdown",
   "metadata": {
    "collapsed": true
   },
   "source": [
    "### How many people have played a role called \"The Dude\"?"
   ]
  },
  {
   "cell_type": "code",
   "execution_count": 89,
   "metadata": {
    "collapsed": false
   },
   "outputs": [
    {
     "data": {
      "text/plain": [
       "24"
      ]
     },
     "execution_count": 89,
     "metadata": {},
     "output_type": "execute_result"
    }
   ],
   "source": [
    "len(cast[cast.character.str.contains('The Dude')])"
   ]
  },
  {
   "cell_type": "code",
   "execution_count": 90,
   "metadata": {
    "collapsed": false
   },
   "outputs": [
    {
     "data": {
      "text/plain": [
       "17"
      ]
     },
     "execution_count": 90,
     "metadata": {},
     "output_type": "execute_result"
    }
   ],
   "source": [
    "len(cast[cast.character == 'The Dude'])"
   ]
  },
  {
   "cell_type": "markdown",
   "metadata": {
    "collapsed": true
   },
   "source": [
    "### How many people have played a role called \"The Stranger\"?"
   ]
  },
  {
   "cell_type": "code",
   "execution_count": 91,
   "metadata": {
    "collapsed": false
   },
   "outputs": [
    {
     "data": {
      "text/plain": [
       "224"
      ]
     },
     "execution_count": 91,
     "metadata": {},
     "output_type": "execute_result"
    }
   ],
   "source": [
    "len(cast[cast.character.str.contains('The Stranger')])"
   ]
  },
  {
   "cell_type": "code",
   "execution_count": 92,
   "metadata": {
    "collapsed": false
   },
   "outputs": [
    {
     "data": {
      "text/plain": [
       "206"
      ]
     },
     "execution_count": 92,
     "metadata": {},
     "output_type": "execute_result"
    }
   ],
   "source": [
    "len(cast[cast.character == 'The Stranger'])"
   ]
  },
  {
   "cell_type": "markdown",
   "metadata": {
    "collapsed": true
   },
   "source": [
    "### How many roles has Sidney Poitier played throughout his career?"
   ]
  },
  {
   "cell_type": "code",
   "execution_count": 93,
   "metadata": {
    "collapsed": false
   },
   "outputs": [
    {
     "data": {
      "text/plain": [
       "43"
      ]
     },
     "execution_count": 93,
     "metadata": {},
     "output_type": "execute_result"
    }
   ],
   "source": [
    "len(cast[cast.name == 'Sidney Poitier'])"
   ]
  },
  {
   "cell_type": "code",
   "execution_count": null,
   "metadata": {
    "collapsed": true
   },
   "outputs": [],
   "source": []
  },
  {
   "cell_type": "markdown",
   "metadata": {
    "collapsed": true
   },
   "source": [
    "### How many roles has Judi Dench played?"
   ]
  },
  {
   "cell_type": "code",
   "execution_count": 94,
   "metadata": {
    "collapsed": false
   },
   "outputs": [
    {
     "data": {
      "text/plain": [
       "54"
      ]
     },
     "execution_count": 94,
     "metadata": {},
     "output_type": "execute_result"
    }
   ],
   "source": [
    "len(cast[cast.name == 'Judi Dench'])"
   ]
  },
  {
   "cell_type": "code",
   "execution_count": null,
   "metadata": {
    "collapsed": true
   },
   "outputs": [],
   "source": []
  },
  {
   "cell_type": "markdown",
   "metadata": {
    "collapsed": true
   },
   "source": [
    "### List the supporting roles (having n=2) played by Cary Grant in the 1940s, in order by year."
   ]
  },
  {
   "cell_type": "code",
   "execution_count": 95,
   "metadata": {
    "collapsed": false
   },
   "outputs": [
    {
     "data": {
      "text/html": [
       "<div style=\"max-height:1000px;max-width:1500px;overflow:auto;\">\n",
       "<table border=\"1\" class=\"dataframe\">\n",
       "  <thead>\n",
       "    <tr style=\"text-align: right;\">\n",
       "      <th></th>\n",
       "      <th>title</th>\n",
       "      <th>year</th>\n",
       "      <th>name</th>\n",
       "      <th>type</th>\n",
       "      <th>character</th>\n",
       "      <th>n</th>\n",
       "    </tr>\n",
       "  </thead>\n",
       "  <tbody>\n",
       "    <tr>\n",
       "      <th>818485</th>\n",
       "      <td> My Favorite Wife</td>\n",
       "      <td> 1940</td>\n",
       "      <td> Cary Grant</td>\n",
       "      <td> actor</td>\n",
       "      <td> Nick</td>\n",
       "      <td> 2</td>\n",
       "    </tr>\n",
       "  </tbody>\n",
       "</table>\n",
       "<p>1 rows × 6 columns</p>\n",
       "</div>"
      ],
      "text/plain": [
       "                   title  year        name   type character  n\n",
       "818485  My Favorite Wife  1940  Cary Grant  actor      Nick  2\n",
       "\n",
       "[1 rows x 6 columns]"
      ]
     },
     "execution_count": 95,
     "metadata": {},
     "output_type": "execute_result"
    }
   ],
   "source": [
    "cast[(cast.name == 'Cary Grant') & (cast.n == 2) & (cast.year == 1940)].sort('year')"
   ]
  },
  {
   "cell_type": "code",
   "execution_count": null,
   "metadata": {
    "collapsed": true
   },
   "outputs": [],
   "source": []
  },
  {
   "cell_type": "markdown",
   "metadata": {
    "collapsed": true
   },
   "source": [
    "### List the leading roles that Cary Grant played in the 1940s in order by year."
   ]
  },
  {
   "cell_type": "code",
   "execution_count": 96,
   "metadata": {
    "collapsed": false
   },
   "outputs": [
    {
     "data": {
      "text/html": [
       "<div style=\"max-height:1000px;max-width:1500px;overflow:auto;\">\n",
       "<table border=\"1\" class=\"dataframe\">\n",
       "  <thead>\n",
       "    <tr style=\"text-align: right;\">\n",
       "      <th></th>\n",
       "      <th>title</th>\n",
       "      <th>year</th>\n",
       "      <th>name</th>\n",
       "      <th>type</th>\n",
       "      <th>character</th>\n",
       "      <th>n</th>\n",
       "    </tr>\n",
       "  </thead>\n",
       "  <tbody>\n",
       "    <tr>\n",
       "      <th>818467</th>\n",
       "      <td>         His Girl Friday</td>\n",
       "      <td> 1940</td>\n",
       "      <td> Cary Grant</td>\n",
       "      <td> actor</td>\n",
       "      <td>       Walter Burns</td>\n",
       "      <td> 1</td>\n",
       "    </tr>\n",
       "    <tr>\n",
       "      <th>818510</th>\n",
       "      <td> The Howards of Virginia</td>\n",
       "      <td> 1940</td>\n",
       "      <td> Cary Grant</td>\n",
       "      <td> actor</td>\n",
       "      <td>        Matt Howard</td>\n",
       "      <td> 1</td>\n",
       "    </tr>\n",
       "    <tr>\n",
       "      <th>818512</th>\n",
       "      <td>  The Philadelphia Story</td>\n",
       "      <td> 1940</td>\n",
       "      <td> Cary Grant</td>\n",
       "      <td> actor</td>\n",
       "      <td> C. K. Dexter Haven</td>\n",
       "      <td> 1</td>\n",
       "    </tr>\n",
       "  </tbody>\n",
       "</table>\n",
       "<p>3 rows × 6 columns</p>\n",
       "</div>"
      ],
      "text/plain": [
       "                          title  year        name   type           character  \\\n",
       "818467          His Girl Friday  1940  Cary Grant  actor        Walter Burns   \n",
       "818510  The Howards of Virginia  1940  Cary Grant  actor         Matt Howard   \n",
       "818512   The Philadelphia Story  1940  Cary Grant  actor  C. K. Dexter Haven   \n",
       "\n",
       "        n  \n",
       "818467  1  \n",
       "818510  1  \n",
       "818512  1  \n",
       "\n",
       "[3 rows x 6 columns]"
      ]
     },
     "execution_count": 96,
     "metadata": {},
     "output_type": "execute_result"
    }
   ],
   "source": [
    "cast[(cast.name == 'Cary Grant') & (cast.n == 1) & (cast.year == 1940)].sort('year')"
   ]
  },
  {
   "cell_type": "code",
   "execution_count": null,
   "metadata": {
    "collapsed": true
   },
   "outputs": [],
   "source": []
  },
  {
   "cell_type": "markdown",
   "metadata": {
    "collapsed": true
   },
   "source": [
    "### How many roles were available for actors in the 1950s?"
   ]
  },
  {
   "cell_type": "code",
   "execution_count": 97,
   "metadata": {
    "collapsed": false
   },
   "outputs": [
    {
     "data": {
      "text/plain": [
       "16434"
      ]
     },
     "execution_count": 97,
     "metadata": {},
     "output_type": "execute_result"
    }
   ],
   "source": [
    "len(cast[(cast.type == 'actor') & (cast.year == 1950)])"
   ]
  },
  {
   "cell_type": "code",
   "execution_count": null,
   "metadata": {
    "collapsed": true
   },
   "outputs": [],
   "source": []
  },
  {
   "cell_type": "markdown",
   "metadata": {
    "collapsed": true
   },
   "source": [
    "### How many roles were avilable for actresses in the 1950s?"
   ]
  },
  {
   "cell_type": "code",
   "execution_count": 98,
   "metadata": {
    "collapsed": false
   },
   "outputs": [
    {
     "data": {
      "text/plain": [
       "5464"
      ]
     },
     "execution_count": 98,
     "metadata": {},
     "output_type": "execute_result"
    }
   ],
   "source": [
    "len(cast[(cast.type == 'actress') & (cast.year == 1950)])"
   ]
  },
  {
   "cell_type": "code",
   "execution_count": null,
   "metadata": {
    "collapsed": true
   },
   "outputs": [],
   "source": []
  },
  {
   "cell_type": "markdown",
   "metadata": {
    "collapsed": true
   },
   "source": [
    "### How many leading roles (n=1) were available from the beginning of film history through 1980?"
   ]
  },
  {
   "cell_type": "code",
   "execution_count": 99,
   "metadata": {
    "collapsed": false
   },
   "outputs": [
    {
     "data": {
      "text/plain": [
       "63203"
      ]
     },
     "execution_count": 99,
     "metadata": {},
     "output_type": "execute_result"
    }
   ],
   "source": [
    "len(cast[(cast.n == 1) & (cast.year <= 1980)])"
   ]
  },
  {
   "cell_type": "code",
   "execution_count": null,
   "metadata": {
    "collapsed": true
   },
   "outputs": [],
   "source": []
  },
  {
   "cell_type": "markdown",
   "metadata": {
    "collapsed": true
   },
   "source": [
    "### How many non-leading roles were available through from the beginning of film history through 1980?"
   ]
  },
  {
   "cell_type": "code",
   "execution_count": 100,
   "metadata": {
    "collapsed": false
   },
   "outputs": [
    {
     "data": {
      "text/plain": [
       "1082969"
      ]
     },
     "execution_count": 100,
     "metadata": {},
     "output_type": "execute_result"
    }
   ],
   "source": [
    "len(cast[(cast.n != 1) & (cast.year <= 1980)])"
   ]
  },
  {
   "cell_type": "code",
   "execution_count": null,
   "metadata": {
    "collapsed": true
   },
   "outputs": [],
   "source": []
  },
  {
   "cell_type": "markdown",
   "metadata": {
    "collapsed": true
   },
   "source": [
    "### How many roles through 1980 were minor enough that they did not warrant a numeric \"n\" rank?"
   ]
  },
  {
   "cell_type": "code",
   "execution_count": 101,
   "metadata": {
    "collapsed": false
   },
   "outputs": [
    {
     "data": {
      "text/plain": [
       "432874"
      ]
     },
     "execution_count": 101,
     "metadata": {},
     "output_type": "execute_result"
    }
   ],
   "source": [
    "len(cast[(cast.n.isnull()) & (cast.year <= 1980)])"
   ]
  },
  {
   "cell_type": "code",
   "execution_count": null,
   "metadata": {
    "collapsed": true
   },
   "outputs": [],
   "source": []
  },
  {
   "cell_type": "code",
   "execution_count": null,
   "metadata": {
    "collapsed": true
   },
   "outputs": [],
   "source": []
  },
  {
   "cell_type": "code",
   "execution_count": null,
   "metadata": {
    "collapsed": true
   },
   "outputs": [],
   "source": []
  },
  {
   "cell_type": "code",
   "execution_count": null,
   "metadata": {
    "collapsed": true
   },
   "outputs": [],
   "source": []
  },
  {
   "cell_type": "code",
   "execution_count": null,
   "metadata": {
    "collapsed": true
   },
   "outputs": [],
   "source": []
  },
  {
   "cell_type": "code",
   "execution_count": null,
   "metadata": {
    "collapsed": true
   },
   "outputs": [],
   "source": []
  },
  {
   "cell_type": "code",
   "execution_count": null,
   "metadata": {
    "collapsed": true
   },
   "outputs": [],
   "source": []
  },
  {
   "cell_type": "code",
   "execution_count": null,
   "metadata": {
    "collapsed": true
   },
   "outputs": [],
   "source": []
  },
  {
   "cell_type": "code",
   "execution_count": null,
   "metadata": {
    "collapsed": true
   },
   "outputs": [],
   "source": []
  },
  {
   "cell_type": "code",
   "execution_count": null,
   "metadata": {
    "collapsed": true
   },
   "outputs": [],
   "source": []
  },
  {
   "cell_type": "code",
   "execution_count": null,
   "metadata": {
    "collapsed": true
   },
   "outputs": [],
   "source": []
  },
  {
   "cell_type": "code",
   "execution_count": null,
   "metadata": {
    "collapsed": true
   },
   "outputs": [],
   "source": []
  },
  {
   "cell_type": "code",
   "execution_count": null,
   "metadata": {
    "collapsed": true
   },
   "outputs": [],
   "source": []
  },
  {
   "cell_type": "code",
   "execution_count": null,
   "metadata": {
    "collapsed": true
   },
   "outputs": [],
   "source": []
  },
  {
   "cell_type": "code",
   "execution_count": null,
   "metadata": {
    "collapsed": true
   },
   "outputs": [],
   "source": []
  },
  {
   "cell_type": "code",
   "execution_count": null,
   "metadata": {
    "collapsed": true
   },
   "outputs": [],
   "source": []
  },
  {
   "cell_type": "code",
   "execution_count": null,
   "metadata": {
    "collapsed": true
   },
   "outputs": [],
   "source": []
  },
  {
   "cell_type": "code",
   "execution_count": null,
   "metadata": {
    "collapsed": true
   },
   "outputs": [],
   "source": []
  },
  {
   "cell_type": "code",
   "execution_count": null,
   "metadata": {
    "collapsed": true
   },
   "outputs": [],
   "source": []
  },
  {
   "cell_type": "code",
   "execution_count": null,
   "metadata": {
    "collapsed": true
   },
   "outputs": [],
   "source": []
  },
  {
   "cell_type": "code",
   "execution_count": null,
   "metadata": {
    "collapsed": true
   },
   "outputs": [],
   "source": []
  },
  {
   "cell_type": "code",
   "execution_count": null,
   "metadata": {
    "collapsed": true
   },
   "outputs": [],
   "source": []
  },
  {
   "cell_type": "code",
   "execution_count": null,
   "metadata": {
    "collapsed": true
   },
   "outputs": [],
   "source": []
  },
  {
   "cell_type": "code",
   "execution_count": null,
   "metadata": {
    "collapsed": true
   },
   "outputs": [],
   "source": []
  },
  {
   "cell_type": "code",
   "execution_count": null,
   "metadata": {
    "collapsed": true
   },
   "outputs": [],
   "source": []
  },
  {
   "cell_type": "code",
   "execution_count": null,
   "metadata": {
    "collapsed": true
   },
   "outputs": [],
   "source": []
  },
  {
   "cell_type": "code",
   "execution_count": null,
   "metadata": {
    "collapsed": true
   },
   "outputs": [],
   "source": []
  },
  {
   "cell_type": "code",
   "execution_count": null,
   "metadata": {
    "collapsed": true
   },
   "outputs": [],
   "source": []
  },
  {
   "cell_type": "code",
   "execution_count": null,
   "metadata": {
    "collapsed": true
   },
   "outputs": [],
   "source": []
  },
  {
   "cell_type": "code",
   "execution_count": null,
   "metadata": {
    "collapsed": true
   },
   "outputs": [],
   "source": []
  },
  {
   "cell_type": "code",
   "execution_count": null,
   "metadata": {
    "collapsed": true
   },
   "outputs": [],
   "source": []
  },
  {
   "cell_type": "code",
   "execution_count": null,
   "metadata": {
    "collapsed": true
   },
   "outputs": [],
   "source": []
  },
  {
   "cell_type": "code",
   "execution_count": null,
   "metadata": {
    "collapsed": true
   },
   "outputs": [],
   "source": []
  },
  {
   "cell_type": "code",
   "execution_count": null,
   "metadata": {
    "collapsed": true
   },
   "outputs": [],
   "source": []
  },
  {
   "cell_type": "code",
   "execution_count": null,
   "metadata": {
    "collapsed": true
   },
   "outputs": [],
   "source": []
  },
  {
   "cell_type": "code",
   "execution_count": null,
   "metadata": {
    "collapsed": true
   },
   "outputs": [],
   "source": []
  },
  {
   "cell_type": "code",
   "execution_count": null,
   "metadata": {
    "collapsed": true
   },
   "outputs": [],
   "source": []
  },
  {
   "cell_type": "code",
   "execution_count": null,
   "metadata": {
    "collapsed": true
   },
   "outputs": [],
   "source": []
  },
  {
   "cell_type": "code",
   "execution_count": null,
   "metadata": {
    "collapsed": true
   },
   "outputs": [],
   "source": []
  },
  {
   "cell_type": "code",
   "execution_count": null,
   "metadata": {
    "collapsed": true
   },
   "outputs": [],
   "source": []
  },
  {
   "cell_type": "code",
   "execution_count": null,
   "metadata": {
    "collapsed": true
   },
   "outputs": [],
   "source": []
  },
  {
   "cell_type": "code",
   "execution_count": null,
   "metadata": {
    "collapsed": true
   },
   "outputs": [],
   "source": []
  },
  {
   "cell_type": "code",
   "execution_count": null,
   "metadata": {
    "collapsed": true
   },
   "outputs": [],
   "source": []
  },
  {
   "cell_type": "code",
   "execution_count": null,
   "metadata": {
    "collapsed": true
   },
   "outputs": [],
   "source": []
  },
  {
   "cell_type": "code",
   "execution_count": null,
   "metadata": {
    "collapsed": true
   },
   "outputs": [],
   "source": []
  },
  {
   "cell_type": "code",
   "execution_count": null,
   "metadata": {
    "collapsed": true
   },
   "outputs": [],
   "source": []
  },
  {
   "cell_type": "code",
   "execution_count": null,
   "metadata": {
    "collapsed": true
   },
   "outputs": [],
   "source": []
  },
  {
   "cell_type": "code",
   "execution_count": null,
   "metadata": {
    "collapsed": true
   },
   "outputs": [],
   "source": []
  },
  {
   "cell_type": "code",
   "execution_count": null,
   "metadata": {
    "collapsed": true
   },
   "outputs": [],
   "source": []
  },
  {
   "cell_type": "code",
   "execution_count": 7,
   "metadata": {
    "collapsed": false
   },
   "outputs": [
    {
     "data": {
      "text/plain": [
       "226758"
      ]
     },
     "execution_count": 7,
     "metadata": {},
     "output_type": "execute_result"
    }
   ],
   "source": [
    "len(titles)"
   ]
  },
  {
   "cell_type": "code",
   "execution_count": 11,
   "metadata": {
    "collapsed": false
   },
   "outputs": [
    {
     "data": {
      "text/html": [
       "<div style=\"max-height:1000px;max-width:1500px;overflow:auto;\">\n",
       "<table border=\"1\" class=\"dataframe\">\n",
       "  <thead>\n",
       "    <tr style=\"text-align: right;\">\n",
       "      <th></th>\n",
       "      <th>title</th>\n",
       "      <th>year</th>\n",
       "    </tr>\n",
       "  </thead>\n",
       "  <tbody>\n",
       "    <tr>\n",
       "      <th>0 </th>\n",
       "      <td>                             The Rising Son</td>\n",
       "      <td> 1990</td>\n",
       "    </tr>\n",
       "    <tr>\n",
       "      <th>1 </th>\n",
       "      <td>                    The Thousand Plane Raid</td>\n",
       "      <td> 1969</td>\n",
       "    </tr>\n",
       "    <tr>\n",
       "      <th>2 </th>\n",
       "      <td>                           Crucea de piatra</td>\n",
       "      <td> 1993</td>\n",
       "    </tr>\n",
       "    <tr>\n",
       "      <th>3 </th>\n",
       "      <td>                                    Country</td>\n",
       "      <td> 2000</td>\n",
       "    </tr>\n",
       "    <tr>\n",
       "      <th>4 </th>\n",
       "      <td>                                 Gaiking II</td>\n",
       "      <td> 2011</td>\n",
       "    </tr>\n",
       "    <tr>\n",
       "      <th>5 </th>\n",
       "      <td>                                Medusa (IV)</td>\n",
       "      <td> 2015</td>\n",
       "    </tr>\n",
       "    <tr>\n",
       "      <th>6 </th>\n",
       "      <td>             The Fresh Air Will Do You Good</td>\n",
       "      <td> 2008</td>\n",
       "    </tr>\n",
       "    <tr>\n",
       "      <th>7 </th>\n",
       "      <td>                         Alex in Wonderland</td>\n",
       "      <td> 1970</td>\n",
       "    </tr>\n",
       "    <tr>\n",
       "      <th>8 </th>\n",
       "      <td>                                 L'outsider</td>\n",
       "      <td> 2016</td>\n",
       "    </tr>\n",
       "    <tr>\n",
       "      <th>9 </th>\n",
       "      <td>                     Do Outro Lado do Mundo</td>\n",
       "      <td> 2008</td>\n",
       "    </tr>\n",
       "    <tr>\n",
       "      <th>10</th>\n",
       "      <td>                            Severny variant</td>\n",
       "      <td> 1974</td>\n",
       "    </tr>\n",
       "    <tr>\n",
       "      <th>11</th>\n",
       "      <td>                              Slave by Name</td>\n",
       "      <td> 2017</td>\n",
       "    </tr>\n",
       "    <tr>\n",
       "      <th>12</th>\n",
       "      <td>                       Insaaf Main Karoonga</td>\n",
       "      <td> 1985</td>\n",
       "    </tr>\n",
       "    <tr>\n",
       "      <th>13</th>\n",
       "      <td>                   Poka Makorer Ghar Bosoti</td>\n",
       "      <td> 1996</td>\n",
       "    </tr>\n",
       "    <tr>\n",
       "      <th>14</th>\n",
       "      <td>                                  Hi, Buddy</td>\n",
       "      <td> 1943</td>\n",
       "    </tr>\n",
       "    <tr>\n",
       "      <th>15</th>\n",
       "      <td>                            Los siete locos</td>\n",
       "      <td> 1973</td>\n",
       "    </tr>\n",
       "    <tr>\n",
       "      <th>16</th>\n",
       "      <td>                                 Panic Room</td>\n",
       "      <td> 2002</td>\n",
       "    </tr>\n",
       "    <tr>\n",
       "      <th>17</th>\n",
       "      <td>                      Io sono un autarchico</td>\n",
       "      <td> 1976</td>\n",
       "    </tr>\n",
       "    <tr>\n",
       "      <th>18</th>\n",
       "      <td>                     Shobhna's Seven Nights</td>\n",
       "      <td> 2012</td>\n",
       "    </tr>\n",
       "    <tr>\n",
       "      <th>19</th>\n",
       "      <td>                                 Mahapurush</td>\n",
       "      <td> 1965</td>\n",
       "    </tr>\n",
       "    <tr>\n",
       "      <th>20</th>\n",
       "      <td>                           Maa Durga Shakti</td>\n",
       "      <td> 1999</td>\n",
       "    </tr>\n",
       "    <tr>\n",
       "      <th>21</th>\n",
       "      <td>                                     Patria</td>\n",
       "      <td> 1917</td>\n",
       "    </tr>\n",
       "    <tr>\n",
       "      <th>22</th>\n",
       "      <td>                             Passenger Side</td>\n",
       "      <td> 2009</td>\n",
       "    </tr>\n",
       "    <tr>\n",
       "      <th>23</th>\n",
       "      <td>                Ang pumatay ng dahil sa iyo</td>\n",
       "      <td> 1989</td>\n",
       "    </tr>\n",
       "    <tr>\n",
       "      <th>24</th>\n",
       "      <td>                       Conflict of Interest</td>\n",
       "      <td> 1993</td>\n",
       "    </tr>\n",
       "    <tr>\n",
       "      <th>25</th>\n",
       "      <td>                              The Syndicate</td>\n",
       "      <td> 2011</td>\n",
       "    </tr>\n",
       "    <tr>\n",
       "      <th>26</th>\n",
       "      <td>               Suzanne, professeur de flirt</td>\n",
       "      <td> 1916</td>\n",
       "    </tr>\n",
       "    <tr>\n",
       "      <th>27</th>\n",
       "      <td>                               Arrive Alive</td>\n",
       "      <td> 1990</td>\n",
       "    </tr>\n",
       "    <tr>\n",
       "      <th>28</th>\n",
       "      <td>                      Tera Mera Saath Rahen</td>\n",
       "      <td> 2001</td>\n",
       "    </tr>\n",
       "    <tr>\n",
       "      <th>29</th>\n",
       "      <td>    The Majestic Life of Queen Elizabeth II</td>\n",
       "      <td> 2013</td>\n",
       "    </tr>\n",
       "    <tr>\n",
       "      <th>30</th>\n",
       "      <td>                                 Velvet Rut</td>\n",
       "      <td> 2012</td>\n",
       "    </tr>\n",
       "    <tr>\n",
       "      <th>31</th>\n",
       "      <td>                                 Dreamscape</td>\n",
       "      <td> 2011</td>\n",
       "    </tr>\n",
       "    <tr>\n",
       "      <th>32</th>\n",
       "      <td>                                Der Brocken</td>\n",
       "      <td> 1992</td>\n",
       "    </tr>\n",
       "    <tr>\n",
       "      <th>33</th>\n",
       "      <td>                          The Hidden Corner</td>\n",
       "      <td> 2016</td>\n",
       "    </tr>\n",
       "    <tr>\n",
       "      <th>34</th>\n",
       "      <td>                                  The Court</td>\n",
       "      <td> 1998</td>\n",
       "    </tr>\n",
       "    <tr>\n",
       "      <th>35</th>\n",
       "      <td> The Neverending Story II: The Next Chapter</td>\n",
       "      <td> 1990</td>\n",
       "    </tr>\n",
       "    <tr>\n",
       "      <th>36</th>\n",
       "      <td>                              Meigui xuanwo</td>\n",
       "      <td> 2000</td>\n",
       "    </tr>\n",
       "    <tr>\n",
       "      <th>37</th>\n",
       "      <td>                                    Pruebas</td>\n",
       "      <td> 2011</td>\n",
       "    </tr>\n",
       "    <tr>\n",
       "      <th>38</th>\n",
       "      <td>     La momia azteca contra el robot humano</td>\n",
       "      <td> 1958</td>\n",
       "    </tr>\n",
       "    <tr>\n",
       "      <th>39</th>\n",
       "      <td>                                   Safe Sex</td>\n",
       "      <td> 1999</td>\n",
       "    </tr>\n",
       "    <tr>\n",
       "      <th>40</th>\n",
       "      <td>                                  Northfork</td>\n",
       "      <td> 2003</td>\n",
       "    </tr>\n",
       "    <tr>\n",
       "      <th>41</th>\n",
       "      <td>                         The Fair Pretender</td>\n",
       "      <td> 1918</td>\n",
       "    </tr>\n",
       "    <tr>\n",
       "      <th>42</th>\n",
       "      <td>                                  Incognita</td>\n",
       "      <td> 2012</td>\n",
       "    </tr>\n",
       "    <tr>\n",
       "      <th>43</th>\n",
       "      <td>                                Mavi boncuk</td>\n",
       "      <td> 1958</td>\n",
       "    </tr>\n",
       "    <tr>\n",
       "      <th>44</th>\n",
       "      <td>                                Yanik kaval</td>\n",
       "      <td> 1947</td>\n",
       "    </tr>\n",
       "    <tr>\n",
       "      <th>45</th>\n",
       "      <td>                                 Torn Apart</td>\n",
       "      <td> 1990</td>\n",
       "    </tr>\n",
       "    <tr>\n",
       "      <th>46</th>\n",
       "      <td>                              Schadenfreude</td>\n",
       "      <td> 2016</td>\n",
       "    </tr>\n",
       "    <tr>\n",
       "      <th>47</th>\n",
       "      <td>                                     Stolen</td>\n",
       "      <td> 2012</td>\n",
       "    </tr>\n",
       "    <tr>\n",
       "      <th>48</th>\n",
       "      <td>                          Piliste Palukutha</td>\n",
       "      <td> 2003</td>\n",
       "    </tr>\n",
       "    <tr>\n",
       "      <th>49</th>\n",
       "      <td>                                    Way Out</td>\n",
       "      <td> 1967</td>\n",
       "    </tr>\n",
       "    <tr>\n",
       "      <th>50</th>\n",
       "      <td>                        Sabse Bada Be-Imaan</td>\n",
       "      <td> 2000</td>\n",
       "    </tr>\n",
       "    <tr>\n",
       "      <th>51</th>\n",
       "      <td>                           Tin dei hung sam</td>\n",
       "      <td> 1997</td>\n",
       "    </tr>\n",
       "    <tr>\n",
       "      <th>52</th>\n",
       "      <td>                                 Dead Awake</td>\n",
       "      <td> 2010</td>\n",
       "    </tr>\n",
       "    <tr>\n",
       "      <th>53</th>\n",
       "      <td>                             Ambilkan bulan</td>\n",
       "      <td> 2012</td>\n",
       "    </tr>\n",
       "    <tr>\n",
       "      <th>54</th>\n",
       "      <td>                              Critical Care</td>\n",
       "      <td> 1997</td>\n",
       "    </tr>\n",
       "    <tr>\n",
       "      <th>55</th>\n",
       "      <td>                                 Woman Trap</td>\n",
       "      <td> 1929</td>\n",
       "    </tr>\n",
       "    <tr>\n",
       "      <th>56</th>\n",
       "      <td>                      The Amityville Horror</td>\n",
       "      <td> 2005</td>\n",
       "    </tr>\n",
       "    <tr>\n",
       "      <th>57</th>\n",
       "      <td>                        Migimagari No Dandy</td>\n",
       "      <td> 1989</td>\n",
       "    </tr>\n",
       "    <tr>\n",
       "      <th>58</th>\n",
       "      <td>                                Territory 8</td>\n",
       "      <td> 2013</td>\n",
       "    </tr>\n",
       "    <tr>\n",
       "      <th>59</th>\n",
       "      <td>                   Lacchimdeviki O Lekkundi</td>\n",
       "      <td> 2016</td>\n",
       "    </tr>\n",
       "    <tr>\n",
       "      <th></th>\n",
       "      <td>...</td>\n",
       "      <td>...</td>\n",
       "    </tr>\n",
       "  </tbody>\n",
       "</table>\n",
       "<p>226758 rows × 2 columns</p>\n",
       "</div>"
      ],
      "text/plain": [
       "                                         title  year\n",
       "0                               The Rising Son  1990\n",
       "1                      The Thousand Plane Raid  1969\n",
       "2                             Crucea de piatra  1993\n",
       "3                                      Country  2000\n",
       "4                                   Gaiking II  2011\n",
       "5                                  Medusa (IV)  2015\n",
       "6               The Fresh Air Will Do You Good  2008\n",
       "7                           Alex in Wonderland  1970\n",
       "8                                   L'outsider  2016\n",
       "9                       Do Outro Lado do Mundo  2008\n",
       "10                             Severny variant  1974\n",
       "11                               Slave by Name  2017\n",
       "12                        Insaaf Main Karoonga  1985\n",
       "13                    Poka Makorer Ghar Bosoti  1996\n",
       "14                                   Hi, Buddy  1943\n",
       "15                             Los siete locos  1973\n",
       "16                                  Panic Room  2002\n",
       "17                       Io sono un autarchico  1976\n",
       "18                      Shobhna's Seven Nights  2012\n",
       "19                                  Mahapurush  1965\n",
       "20                            Maa Durga Shakti  1999\n",
       "21                                      Patria  1917\n",
       "22                              Passenger Side  2009\n",
       "23                 Ang pumatay ng dahil sa iyo  1989\n",
       "24                        Conflict of Interest  1993\n",
       "25                               The Syndicate  2011\n",
       "26                Suzanne, professeur de flirt  1916\n",
       "27                                Arrive Alive  1990\n",
       "28                       Tera Mera Saath Rahen  2001\n",
       "29     The Majestic Life of Queen Elizabeth II  2013\n",
       "30                                  Velvet Rut  2012\n",
       "31                                  Dreamscape  2011\n",
       "32                                 Der Brocken  1992\n",
       "33                           The Hidden Corner  2016\n",
       "34                                   The Court  1998\n",
       "35  The Neverending Story II: The Next Chapter  1990\n",
       "36                               Meigui xuanwo  2000\n",
       "37                                     Pruebas  2011\n",
       "38      La momia azteca contra el robot humano  1958\n",
       "39                                    Safe Sex  1999\n",
       "40                                   Northfork  2003\n",
       "41                          The Fair Pretender  1918\n",
       "42                                   Incognita  2012\n",
       "43                                 Mavi boncuk  1958\n",
       "44                                 Yanik kaval  1947\n",
       "45                                  Torn Apart  1990\n",
       "46                               Schadenfreude  2016\n",
       "47                                      Stolen  2012\n",
       "48                           Piliste Palukutha  2003\n",
       "49                                     Way Out  1967\n",
       "50                         Sabse Bada Be-Imaan  2000\n",
       "51                            Tin dei hung sam  1997\n",
       "52                                  Dead Awake  2010\n",
       "53                              Ambilkan bulan  2012\n",
       "54                               Critical Care  1997\n",
       "55                                  Woman Trap  1929\n",
       "56                       The Amityville Horror  2005\n",
       "57                         Migimagari No Dandy  1989\n",
       "58                                 Territory 8  2013\n",
       "59                    Lacchimdeviki O Lekkundi  2016\n",
       "                                           ...   ...\n",
       "\n",
       "[226758 rows x 2 columns]"
      ]
     },
     "execution_count": 11,
     "metadata": {},
     "output_type": "execute_result"
    }
   ],
   "source": [
    "titles"
   ]
  },
  {
   "cell_type": "code",
   "execution_count": 14,
   "metadata": {
    "collapsed": false
   },
   "outputs": [
    {
     "data": {
      "text/html": [
       "<div style=\"max-height:1000px;max-width:1500px;overflow:auto;\">\n",
       "<table border=\"1\" class=\"dataframe\">\n",
       "  <thead>\n",
       "    <tr style=\"text-align: right;\">\n",
       "      <th></th>\n",
       "      <th>title</th>\n",
       "      <th>year</th>\n",
       "    </tr>\n",
       "  </thead>\n",
       "  <tbody>\n",
       "    <tr>\n",
       "      <th>226753</th>\n",
       "      <td> Nobody Waved Good-bye</td>\n",
       "      <td> 1964</td>\n",
       "    </tr>\n",
       "    <tr>\n",
       "      <th>226754</th>\n",
       "      <td>                 E yue</td>\n",
       "      <td> 2005</td>\n",
       "    </tr>\n",
       "    <tr>\n",
       "      <th>226755</th>\n",
       "      <td>          Lakota Girls</td>\n",
       "      <td> 2015</td>\n",
       "    </tr>\n",
       "    <tr>\n",
       "      <th>226756</th>\n",
       "      <td>        Kroniki domowe</td>\n",
       "      <td> 1997</td>\n",
       "    </tr>\n",
       "    <tr>\n",
       "      <th>226757</th>\n",
       "      <td>          The Sting II</td>\n",
       "      <td> 1983</td>\n",
       "    </tr>\n",
       "  </tbody>\n",
       "</table>\n",
       "<p>5 rows × 2 columns</p>\n",
       "</div>"
      ],
      "text/plain": [
       "                        title  year\n",
       "226753  Nobody Waved Good-bye  1964\n",
       "226754                  E yue  2005\n",
       "226755           Lakota Girls  2015\n",
       "226756         Kroniki domowe  1997\n",
       "226757           The Sting II  1983\n",
       "\n",
       "[5 rows x 2 columns]"
      ]
     },
     "execution_count": 14,
     "metadata": {},
     "output_type": "execute_result"
    }
   ],
   "source": [
    "titles.tail()"
   ]
  },
  {
   "cell_type": "code",
   "execution_count": 15,
   "metadata": {
    "collapsed": false
   },
   "outputs": [
    {
     "data": {
      "text/html": [
       "<div style=\"max-height:1000px;max-width:1500px;overflow:auto;\">\n",
       "<table border=\"1\" class=\"dataframe\">\n",
       "  <thead>\n",
       "    <tr style=\"text-align: right;\">\n",
       "      <th></th>\n",
       "      <th>title</th>\n",
       "      <th>year</th>\n",
       "    </tr>\n",
       "  </thead>\n",
       "  <tbody>\n",
       "    <tr>\n",
       "      <th>0</th>\n",
       "      <td>                 The Rising Son</td>\n",
       "      <td> 1990</td>\n",
       "    </tr>\n",
       "    <tr>\n",
       "      <th>1</th>\n",
       "      <td>        The Thousand Plane Raid</td>\n",
       "      <td> 1969</td>\n",
       "    </tr>\n",
       "    <tr>\n",
       "      <th>2</th>\n",
       "      <td>               Crucea de piatra</td>\n",
       "      <td> 1993</td>\n",
       "    </tr>\n",
       "    <tr>\n",
       "      <th>3</th>\n",
       "      <td>                        Country</td>\n",
       "      <td> 2000</td>\n",
       "    </tr>\n",
       "    <tr>\n",
       "      <th>4</th>\n",
       "      <td>                     Gaiking II</td>\n",
       "      <td> 2011</td>\n",
       "    </tr>\n",
       "    <tr>\n",
       "      <th>5</th>\n",
       "      <td>                    Medusa (IV)</td>\n",
       "      <td> 2015</td>\n",
       "    </tr>\n",
       "    <tr>\n",
       "      <th>6</th>\n",
       "      <td> The Fresh Air Will Do You Good</td>\n",
       "      <td> 2008</td>\n",
       "    </tr>\n",
       "    <tr>\n",
       "      <th>7</th>\n",
       "      <td>             Alex in Wonderland</td>\n",
       "      <td> 1970</td>\n",
       "    </tr>\n",
       "  </tbody>\n",
       "</table>\n",
       "<p>8 rows × 2 columns</p>\n",
       "</div>"
      ],
      "text/plain": [
       "                            title  year\n",
       "0                  The Rising Son  1990\n",
       "1         The Thousand Plane Raid  1969\n",
       "2                Crucea de piatra  1993\n",
       "3                         Country  2000\n",
       "4                      Gaiking II  2011\n",
       "5                     Medusa (IV)  2015\n",
       "6  The Fresh Air Will Do You Good  2008\n",
       "7              Alex in Wonderland  1970\n",
       "\n",
       "[8 rows x 2 columns]"
      ]
     },
     "execution_count": 15,
     "metadata": {},
     "output_type": "execute_result"
    }
   ],
   "source": [
    "h = titles.head(8)\n",
    "\n",
    "h"
   ]
  },
  {
   "cell_type": "code",
   "execution_count": 17,
   "metadata": {
    "collapsed": false
   },
   "outputs": [
    {
     "data": {
      "text/html": [
       "<div style=\"max-height:1000px;max-width:1500px;overflow:auto;\">\n",
       "<table border=\"1\" class=\"dataframe\">\n",
       "  <thead>\n",
       "    <tr style=\"text-align: right;\">\n",
       "      <th></th>\n",
       "      <th>title</th>\n",
       "      <th>year</th>\n",
       "    </tr>\n",
       "  </thead>\n",
       "  <tbody>\n",
       "    <tr>\n",
       "      <th>0</th>\n",
       "      <td>                 The Rising Son</td>\n",
       "      <td> 1990</td>\n",
       "    </tr>\n",
       "    <tr>\n",
       "      <th>1</th>\n",
       "      <td>        The Thousand Plane Raid</td>\n",
       "      <td> 1969</td>\n",
       "    </tr>\n",
       "    <tr>\n",
       "      <th>2</th>\n",
       "      <td>               Crucea de piatra</td>\n",
       "      <td> 1993</td>\n",
       "    </tr>\n",
       "    <tr>\n",
       "      <th>3</th>\n",
       "      <td>                        Country</td>\n",
       "      <td> 2000</td>\n",
       "    </tr>\n",
       "    <tr>\n",
       "      <th>4</th>\n",
       "      <td>                     Gaiking II</td>\n",
       "      <td> 2011</td>\n",
       "    </tr>\n",
       "    <tr>\n",
       "      <th>5</th>\n",
       "      <td>                    Medusa (IV)</td>\n",
       "      <td> 2015</td>\n",
       "    </tr>\n",
       "    <tr>\n",
       "      <th>6</th>\n",
       "      <td> The Fresh Air Will Do You Good</td>\n",
       "      <td> 2008</td>\n",
       "    </tr>\n",
       "    <tr>\n",
       "      <th>7</th>\n",
       "      <td>             Alex in Wonderland</td>\n",
       "      <td> 1970</td>\n",
       "    </tr>\n",
       "  </tbody>\n",
       "</table>\n",
       "<p>8 rows × 2 columns</p>\n",
       "</div>"
      ],
      "text/plain": [
       "                            title  year\n",
       "0                  The Rising Son  1990\n",
       "1         The Thousand Plane Raid  1969\n",
       "2                Crucea de piatra  1993\n",
       "3                         Country  2000\n",
       "4                      Gaiking II  2011\n",
       "5                     Medusa (IV)  2015\n",
       "6  The Fresh Air Will Do You Good  2008\n",
       "7              Alex in Wonderland  1970\n",
       "\n",
       "[8 rows x 2 columns]"
      ]
     },
     "execution_count": 17,
     "metadata": {},
     "output_type": "execute_result"
    }
   ],
   "source": [
    "h"
   ]
  },
  {
   "cell_type": "code",
   "execution_count": 22,
   "metadata": {
    "collapsed": false
   },
   "outputs": [
    {
     "data": {
      "text/plain": [
       "0    1990\n",
       "1    1960\n",
       "2    1990\n",
       "3    2000\n",
       "4    2010\n",
       "5    2010\n",
       "6    2000\n",
       "7    1970\n",
       "Name: year, dtype: int64"
      ]
     },
     "execution_count": 22,
     "metadata": {},
     "output_type": "execute_result"
    }
   ],
   "source": [
    "h['year'] // 10 * 10"
   ]
  },
  {
   "cell_type": "code",
   "execution_count": 30,
   "metadata": {
    "collapsed": false
   },
   "outputs": [
    {
     "data": {
      "text/html": [
       "<div style=\"max-height:1000px;max-width:1500px;overflow:auto;\">\n",
       "<table border=\"1\" class=\"dataframe\">\n",
       "  <thead>\n",
       "    <tr style=\"text-align: right;\">\n",
       "      <th></th>\n",
       "      <th>title</th>\n",
       "      <th>year</th>\n",
       "    </tr>\n",
       "  </thead>\n",
       "  <tbody>\n",
       "    <tr>\n",
       "      <th>0</th>\n",
       "      <td>                 The Rising Son</td>\n",
       "      <td> 1990</td>\n",
       "    </tr>\n",
       "    <tr>\n",
       "      <th>1</th>\n",
       "      <td>        The Thousand Plane Raid</td>\n",
       "      <td> 1969</td>\n",
       "    </tr>\n",
       "    <tr>\n",
       "      <th>2</th>\n",
       "      <td>               Crucea de piatra</td>\n",
       "      <td> 1993</td>\n",
       "    </tr>\n",
       "    <tr>\n",
       "      <th>3</th>\n",
       "      <td>                        Country</td>\n",
       "      <td> 2000</td>\n",
       "    </tr>\n",
       "    <tr>\n",
       "      <th>4</th>\n",
       "      <td>                     Gaiking II</td>\n",
       "      <td> 2011</td>\n",
       "    </tr>\n",
       "    <tr>\n",
       "      <th>5</th>\n",
       "      <td>                    Medusa (IV)</td>\n",
       "      <td> 2015</td>\n",
       "    </tr>\n",
       "    <tr>\n",
       "      <th>6</th>\n",
       "      <td> The Fresh Air Will Do You Good</td>\n",
       "      <td> 2008</td>\n",
       "    </tr>\n",
       "    <tr>\n",
       "      <th>7</th>\n",
       "      <td>             Alex in Wonderland</td>\n",
       "      <td> 1970</td>\n",
       "    </tr>\n",
       "  </tbody>\n",
       "</table>\n",
       "<p>8 rows × 2 columns</p>\n",
       "</div>"
      ],
      "text/plain": [
       "                            title  year\n",
       "0                  The Rising Son  1990\n",
       "1         The Thousand Plane Raid  1969\n",
       "2                Crucea de piatra  1993\n",
       "3                         Country  2000\n",
       "4                      Gaiking II  2011\n",
       "5                     Medusa (IV)  2015\n",
       "6  The Fresh Air Will Do You Good  2008\n",
       "7              Alex in Wonderland  1970\n",
       "\n",
       "[8 rows x 2 columns]"
      ]
     },
     "execution_count": 30,
     "metadata": {},
     "output_type": "execute_result"
    }
   ],
   "source": [
    "h[(h.year < 1985) | (h.year >= 1990)]"
   ]
  },
  {
   "cell_type": "code",
   "execution_count": 33,
   "metadata": {
    "collapsed": false
   },
   "outputs": [
    {
     "data": {
      "text/html": [
       "<div style=\"max-height:1000px;max-width:1500px;overflow:auto;\">\n",
       "<table border=\"1\" class=\"dataframe\">\n",
       "  <thead>\n",
       "    <tr style=\"text-align: right;\">\n",
       "      <th></th>\n",
       "      <th>title</th>\n",
       "      <th>year</th>\n",
       "    </tr>\n",
       "  </thead>\n",
       "  <tbody>\n",
       "    <tr>\n",
       "      <th>4069  </th>\n",
       "      <td> Macbeth</td>\n",
       "      <td> 1913</td>\n",
       "    </tr>\n",
       "    <tr>\n",
       "      <th>66221 </th>\n",
       "      <td> Macbeth</td>\n",
       "      <td> 1916</td>\n",
       "    </tr>\n",
       "    <tr>\n",
       "      <th>155107</th>\n",
       "      <td> Macbeth</td>\n",
       "      <td> 1948</td>\n",
       "    </tr>\n",
       "    <tr>\n",
       "      <th>199694</th>\n",
       "      <td> Macbeth</td>\n",
       "      <td> 1987</td>\n",
       "    </tr>\n",
       "    <tr>\n",
       "      <th>16587 </th>\n",
       "      <td> Macbeth</td>\n",
       "      <td> 1997</td>\n",
       "    </tr>\n",
       "    <tr>\n",
       "      <th>24945 </th>\n",
       "      <td> Macbeth</td>\n",
       "      <td> 1998</td>\n",
       "    </tr>\n",
       "    <tr>\n",
       "      <th>72596 </th>\n",
       "      <td> Macbeth</td>\n",
       "      <td> 2003</td>\n",
       "    </tr>\n",
       "    <tr>\n",
       "      <th>129595</th>\n",
       "      <td> Macbeth</td>\n",
       "      <td> 2004</td>\n",
       "    </tr>\n",
       "    <tr>\n",
       "      <th>54520 </th>\n",
       "      <td> Macbeth</td>\n",
       "      <td> 2006</td>\n",
       "    </tr>\n",
       "    <tr>\n",
       "      <th>147816</th>\n",
       "      <td> Macbeth</td>\n",
       "      <td> 2009</td>\n",
       "    </tr>\n",
       "    <tr>\n",
       "      <th>11318 </th>\n",
       "      <td> Macbeth</td>\n",
       "      <td> 2013</td>\n",
       "    </tr>\n",
       "    <tr>\n",
       "      <th>151690</th>\n",
       "      <td> Macbeth</td>\n",
       "      <td> 2014</td>\n",
       "    </tr>\n",
       "    <tr>\n",
       "      <th>134274</th>\n",
       "      <td> Macbeth</td>\n",
       "      <td> 2015</td>\n",
       "    </tr>\n",
       "    <tr>\n",
       "      <th>144226</th>\n",
       "      <td> Macbeth</td>\n",
       "      <td> 2016</td>\n",
       "    </tr>\n",
       "    <tr>\n",
       "      <th>165205</th>\n",
       "      <td> Macbeth</td>\n",
       "      <td> 2017</td>\n",
       "    </tr>\n",
       "  </tbody>\n",
       "</table>\n",
       "<p>15 rows × 2 columns</p>\n",
       "</div>"
      ],
      "text/plain": [
       "          title  year\n",
       "4069    Macbeth  1913\n",
       "66221   Macbeth  1916\n",
       "155107  Macbeth  1948\n",
       "199694  Macbeth  1987\n",
       "16587   Macbeth  1997\n",
       "24945   Macbeth  1998\n",
       "72596   Macbeth  2003\n",
       "129595  Macbeth  2004\n",
       "54520   Macbeth  2006\n",
       "147816  Macbeth  2009\n",
       "11318   Macbeth  2013\n",
       "151690  Macbeth  2014\n",
       "134274  Macbeth  2015\n",
       "144226  Macbeth  2016\n",
       "165205  Macbeth  2017\n",
       "\n",
       "[15 rows x 2 columns]"
      ]
     },
     "execution_count": 33,
     "metadata": {},
     "output_type": "execute_result"
    }
   ],
   "source": [
    "t = titles\n",
    "t[t.title == 'Macbeth'].sort('year')"
   ]
  },
  {
   "cell_type": "code",
   "execution_count": 34,
   "metadata": {
    "collapsed": false
   },
   "outputs": [
    {
     "data": {
      "text/html": [
       "<div style=\"max-height:1000px;max-width:1500px;overflow:auto;\">\n",
       "<table border=\"1\" class=\"dataframe\">\n",
       "  <thead>\n",
       "    <tr style=\"text-align: right;\">\n",
       "      <th></th>\n",
       "      <th>title</th>\n",
       "      <th>year</th>\n",
       "    </tr>\n",
       "  </thead>\n",
       "  <tbody>\n",
       "    <tr>\n",
       "      <th>11318 </th>\n",
       "      <td> Macbeth</td>\n",
       "      <td> 2013</td>\n",
       "    </tr>\n",
       "    <tr>\n",
       "      <th>151690</th>\n",
       "      <td> Macbeth</td>\n",
       "      <td> 2014</td>\n",
       "    </tr>\n",
       "    <tr>\n",
       "      <th>134274</th>\n",
       "      <td> Macbeth</td>\n",
       "      <td> 2015</td>\n",
       "    </tr>\n",
       "    <tr>\n",
       "      <th>144226</th>\n",
       "      <td> Macbeth</td>\n",
       "      <td> 2016</td>\n",
       "    </tr>\n",
       "    <tr>\n",
       "      <th>165205</th>\n",
       "      <td> Macbeth</td>\n",
       "      <td> 2017</td>\n",
       "    </tr>\n",
       "  </tbody>\n",
       "</table>\n",
       "<p>5 rows × 2 columns</p>\n",
       "</div>"
      ],
      "text/plain": [
       "          title  year\n",
       "11318   Macbeth  2013\n",
       "151690  Macbeth  2014\n",
       "134274  Macbeth  2015\n",
       "144226  Macbeth  2016\n",
       "165205  Macbeth  2017\n",
       "\n",
       "[5 rows x 2 columns]"
      ]
     },
     "execution_count": 34,
     "metadata": {},
     "output_type": "execute_result"
    }
   ],
   "source": [
    "t[t.title == 'Macbeth'].sort('year').tail()"
   ]
  },
  {
   "cell_type": "code",
   "execution_count": 35,
   "metadata": {
    "collapsed": true
   },
   "outputs": [],
   "source": [
    "h = cast.head()"
   ]
  },
  {
   "cell_type": "code",
   "execution_count": 36,
   "metadata": {
    "collapsed": false
   },
   "outputs": [
    {
     "data": {
      "text/html": [
       "<div style=\"max-height:1000px;max-width:1500px;overflow:auto;\">\n",
       "<table border=\"1\" class=\"dataframe\">\n",
       "  <thead>\n",
       "    <tr style=\"text-align: right;\">\n",
       "      <th></th>\n",
       "      <th>title</th>\n",
       "      <th>year</th>\n",
       "      <th>name</th>\n",
       "      <th>type</th>\n",
       "      <th>character</th>\n",
       "      <th>n</th>\n",
       "    </tr>\n",
       "  </thead>\n",
       "  <tbody>\n",
       "    <tr>\n",
       "      <th>0</th>\n",
       "      <td>        Suuri illusioni</td>\n",
       "      <td> 1985</td>\n",
       "      <td>  Homo $</td>\n",
       "      <td> actor</td>\n",
       "      <td>                  Guests</td>\n",
       "      <td> 22</td>\n",
       "    </tr>\n",
       "    <tr>\n",
       "      <th>1</th>\n",
       "      <td>    Battle of the Sexes</td>\n",
       "      <td> 2017</td>\n",
       "      <td> $hutter</td>\n",
       "      <td> actor</td>\n",
       "      <td>         Bobby Riggs Fan</td>\n",
       "      <td> 10</td>\n",
       "    </tr>\n",
       "    <tr>\n",
       "      <th>2</th>\n",
       "      <td>   Secret in Their Eyes</td>\n",
       "      <td> 2015</td>\n",
       "      <td> $hutter</td>\n",
       "      <td> actor</td>\n",
       "      <td>         2002 Dodger Fan</td>\n",
       "      <td>NaN</td>\n",
       "    </tr>\n",
       "    <tr>\n",
       "      <th>3</th>\n",
       "      <td>             Steve Jobs</td>\n",
       "      <td> 2015</td>\n",
       "      <td> $hutter</td>\n",
       "      <td> actor</td>\n",
       "      <td> 1988 Opera House Patron</td>\n",
       "      <td>NaN</td>\n",
       "    </tr>\n",
       "    <tr>\n",
       "      <th>4</th>\n",
       "      <td> Straight Outta Compton</td>\n",
       "      <td> 2015</td>\n",
       "      <td> $hutter</td>\n",
       "      <td> actor</td>\n",
       "      <td>             Club Patron</td>\n",
       "      <td>NaN</td>\n",
       "    </tr>\n",
       "  </tbody>\n",
       "</table>\n",
       "<p>5 rows × 6 columns</p>\n",
       "</div>"
      ],
      "text/plain": [
       "                    title  year     name   type                character   n\n",
       "0         Suuri illusioni  1985   Homo $  actor                   Guests  22\n",
       "1     Battle of the Sexes  2017  $hutter  actor          Bobby Riggs Fan  10\n",
       "2    Secret in Their Eyes  2015  $hutter  actor          2002 Dodger Fan NaN\n",
       "3              Steve Jobs  2015  $hutter  actor  1988 Opera House Patron NaN\n",
       "4  Straight Outta Compton  2015  $hutter  actor              Club Patron NaN\n",
       "\n",
       "[5 rows x 6 columns]"
      ]
     },
     "execution_count": 36,
     "metadata": {},
     "output_type": "execute_result"
    }
   ],
   "source": [
    "h"
   ]
  },
  {
   "cell_type": "code",
   "execution_count": 40,
   "metadata": {
    "collapsed": false
   },
   "outputs": [
    {
     "data": {
      "text/html": [
       "<div style=\"max-height:1000px;max-width:1500px;overflow:auto;\">\n",
       "<table border=\"1\" class=\"dataframe\">\n",
       "  <thead>\n",
       "    <tr style=\"text-align: right;\">\n",
       "      <th></th>\n",
       "      <th>title</th>\n",
       "      <th>year</th>\n",
       "      <th>name</th>\n",
       "      <th>type</th>\n",
       "      <th>character</th>\n",
       "      <th>n</th>\n",
       "    </tr>\n",
       "  </thead>\n",
       "  <tbody>\n",
       "    <tr>\n",
       "      <th>0</th>\n",
       "      <td>     Suuri illusioni</td>\n",
       "      <td> 1985</td>\n",
       "      <td>  Homo $</td>\n",
       "      <td> actor</td>\n",
       "      <td>          Guests</td>\n",
       "      <td> 22</td>\n",
       "    </tr>\n",
       "    <tr>\n",
       "      <th>1</th>\n",
       "      <td> Battle of the Sexes</td>\n",
       "      <td> 2017</td>\n",
       "      <td> $hutter</td>\n",
       "      <td> actor</td>\n",
       "      <td> Bobby Riggs Fan</td>\n",
       "      <td> 10</td>\n",
       "    </tr>\n",
       "  </tbody>\n",
       "</table>\n",
       "<p>2 rows × 6 columns</p>\n",
       "</div>"
      ],
      "text/plain": [
       "                 title  year     name   type        character   n\n",
       "0      Suuri illusioni  1985   Homo $  actor           Guests  22\n",
       "1  Battle of the Sexes  2017  $hutter  actor  Bobby Riggs Fan  10\n",
       "\n",
       "[2 rows x 6 columns]"
      ]
     },
     "execution_count": 40,
     "metadata": {},
     "output_type": "execute_result"
    }
   ],
   "source": [
    "h = h[h.n.notnull()]\n",
    "h"
   ]
  },
  {
   "cell_type": "code",
   "execution_count": 41,
   "metadata": {
    "collapsed": false
   },
   "outputs": [
    {
     "data": {
      "text/html": [
       "<div style=\"max-height:1000px;max-width:1500px;overflow:auto;\">\n",
       "<table border=\"1\" class=\"dataframe\">\n",
       "  <tbody>\n",
       "    <tr>\n",
       "      <td>Int64Index([], dtype='int64')</td>\n",
       "      <td>Empty DataFrame</td>\n",
       "    </tr>\n",
       "  </tbody>\n",
       "</table>\n",
       "<p>0 rows × 6 columns</p>\n",
       "</div>"
      ],
      "text/plain": [
       "Empty DataFrame\n",
       "Columns: [title, year, name, type, character, n]\n",
       "Index: []\n",
       "\n",
       "[0 rows x 6 columns]"
      ]
     },
     "execution_count": 41,
     "metadata": {},
     "output_type": "execute_result"
    }
   ],
   "source": []
  },
  {
   "cell_type": "code",
   "execution_count": null,
   "metadata": {
    "collapsed": true
   },
   "outputs": [],
   "source": []
  }
 ],
 "metadata": {
  "kernelspec": {
   "display_name": "Python 2",
   "language": "python",
   "name": "python2"
  },
  "language_info": {
   "codemirror_mode": {
    "name": "ipython",
    "version": 2
   },
   "file_extension": ".py",
   "mimetype": "text/x-python",
   "name": "python",
   "nbconvert_exporter": "python",
   "pygments_lexer": "ipython2",
   "version": "2.7.11"
  }
 },
 "nbformat": 4,
 "nbformat_minor": 0
}
